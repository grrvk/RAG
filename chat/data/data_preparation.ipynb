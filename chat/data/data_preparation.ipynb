{
 "cells": [
  {
   "metadata": {
    "ExecuteTime": {
     "end_time": "2025-01-28T15:44:27.679174Z",
     "start_time": "2025-01-28T15:44:27.677001Z"
    }
   },
   "cell_type": "code",
   "source": [
    "import os\n",
    "import pandas as pd"
   ],
   "id": "2de738e293c54eea",
   "outputs": [],
   "execution_count": 23
  },
  {
   "metadata": {
    "ExecuteTime": {
     "end_time": "2025-01-28T15:44:57.656069Z",
     "start_time": "2025-01-28T15:44:57.654133Z"
    }
   },
   "cell_type": "code",
   "source": [
    "general_path = 'chat/data/datasets'\n",
    "dataset_name = 'final_cocktails.csv'"
   ],
   "id": "initial_id",
   "outputs": [],
   "execution_count": 34
  },
  {
   "metadata": {
    "ExecuteTime": {
     "end_time": "2025-01-28T15:44:57.935849Z",
     "start_time": "2025-01-28T15:44:57.928709Z"
    }
   },
   "cell_type": "code",
   "source": [
    "full_dataset_path = os.path.join(general_path, dataset_name)\n",
    "df = pd.read_csv(full_dataset_path)"
   ],
   "id": "18aedd1e84fe7d4b",
   "outputs": [],
   "execution_count": 35
  },
  {
   "metadata": {
    "ExecuteTime": {
     "end_time": "2025-01-28T15:44:59.308656Z",
     "start_time": "2025-01-28T15:44:59.301Z"
    }
   },
   "cell_type": "code",
   "source": "df.head()",
   "id": "bab9c9fc21a98a1e",
   "outputs": [
    {
     "data": {
      "text/plain": [
       "   Unnamed: 0  id  name  alcoholic        category       glassType  \\\n",
       "0           0   0    A1  Alcoholic        Cocktail  Cocktail glass   \n",
       "1           1   1   ABC  Alcoholic            Shot      Shot glass   \n",
       "2           2   2   Ace  Alcoholic        Cocktail   Martini Glass   \n",
       "3           3   3  ACID  Alcoholic            Shot      Shot glass   \n",
       "4           4   4  Adam  Alcoholic  Ordinary Drink  Cocktail glass   \n",
       "\n",
       "                                        instructions  \\\n",
       "0  Pour all ingredients into a cocktail shaker, m...   \n",
       "1                           Layered in a shot glass.   \n",
       "2  Shake all the ingredients in a cocktail shaker...   \n",
       "3  Poor in the 151 first followed by the 101 serv...   \n",
       "4  In a shaker half-filled with ice cubes, combin...   \n",
       "\n",
       "                                      drinkThumbnail  \\\n",
       "0  https://www.thecocktaildb.com/images/media/dri...   \n",
       "1  https://www.thecocktaildb.com/images/media/dri...   \n",
       "2  https://www.thecocktaildb.com/images/media/dri...   \n",
       "3  https://www.thecocktaildb.com/images/media/dri...   \n",
       "4  https://www.thecocktaildb.com/images/media/dri...   \n",
       "\n",
       "                                         ingredients  \\\n",
       "0  ['Gin', 'Grand Marnier', 'Lemon Juice', 'Grena...   \n",
       "1      ['Amaretto', 'Baileys irish cream', 'Cognac']   \n",
       "2  ['Gin', 'Grenadine', 'Heavy cream', 'Milk', 'E...   \n",
       "3                   ['151 proof rum', 'Wild Turkey']   \n",
       "4           ['Dark rum', 'Lemon juice', 'Grenadine']   \n",
       "\n",
       "                                  ingredientMeasures  \\\n",
       "0  ['1 3/4 shot ', '1 Shot ', '1/4 Shot', '1/8 Sh...   \n",
       "1                           ['1/3 ', '1/3 ', '1/3 ']   \n",
       "2  ['2 shots ', '1/2 shot ', '1/2 shot ', '1/2 sh...   \n",
       "3                         ['1 oz Bacardi ', '1 oz ']   \n",
       "4                       ['2 oz ', '1 oz ', '1 tsp ']   \n",
       "\n",
       "                                                text  \n",
       "0  question Generate a cocktail with Gin Grand Ma...  \n",
       "1  question Generate a cocktail with Amaretto Bai...  \n",
       "2  question Generate a cocktail with Gin Grenadin...  \n",
       "3  question Generate a cocktail with 151 proof ru...  \n",
       "4  question Generate a cocktail with Dark rum Lem...  "
      ],
      "text/html": [
       "<div>\n",
       "<style scoped>\n",
       "    .dataframe tbody tr th:only-of-type {\n",
       "        vertical-align: middle;\n",
       "    }\n",
       "\n",
       "    .dataframe tbody tr th {\n",
       "        vertical-align: top;\n",
       "    }\n",
       "\n",
       "    .dataframe thead th {\n",
       "        text-align: right;\n",
       "    }\n",
       "</style>\n",
       "<table border=\"1\" class=\"dataframe\">\n",
       "  <thead>\n",
       "    <tr style=\"text-align: right;\">\n",
       "      <th></th>\n",
       "      <th>Unnamed: 0</th>\n",
       "      <th>id</th>\n",
       "      <th>name</th>\n",
       "      <th>alcoholic</th>\n",
       "      <th>category</th>\n",
       "      <th>glassType</th>\n",
       "      <th>instructions</th>\n",
       "      <th>drinkThumbnail</th>\n",
       "      <th>ingredients</th>\n",
       "      <th>ingredientMeasures</th>\n",
       "      <th>text</th>\n",
       "    </tr>\n",
       "  </thead>\n",
       "  <tbody>\n",
       "    <tr>\n",
       "      <th>0</th>\n",
       "      <td>0</td>\n",
       "      <td>0</td>\n",
       "      <td>A1</td>\n",
       "      <td>Alcoholic</td>\n",
       "      <td>Cocktail</td>\n",
       "      <td>Cocktail glass</td>\n",
       "      <td>Pour all ingredients into a cocktail shaker, m...</td>\n",
       "      <td>https://www.thecocktaildb.com/images/media/dri...</td>\n",
       "      <td>['Gin', 'Grand Marnier', 'Lemon Juice', 'Grena...</td>\n",
       "      <td>['1 3/4 shot ', '1 Shot ', '1/4 Shot', '1/8 Sh...</td>\n",
       "      <td>question Generate a cocktail with Gin Grand Ma...</td>\n",
       "    </tr>\n",
       "    <tr>\n",
       "      <th>1</th>\n",
       "      <td>1</td>\n",
       "      <td>1</td>\n",
       "      <td>ABC</td>\n",
       "      <td>Alcoholic</td>\n",
       "      <td>Shot</td>\n",
       "      <td>Shot glass</td>\n",
       "      <td>Layered in a shot glass.</td>\n",
       "      <td>https://www.thecocktaildb.com/images/media/dri...</td>\n",
       "      <td>['Amaretto', 'Baileys irish cream', 'Cognac']</td>\n",
       "      <td>['1/3 ', '1/3 ', '1/3 ']</td>\n",
       "      <td>question Generate a cocktail with Amaretto Bai...</td>\n",
       "    </tr>\n",
       "    <tr>\n",
       "      <th>2</th>\n",
       "      <td>2</td>\n",
       "      <td>2</td>\n",
       "      <td>Ace</td>\n",
       "      <td>Alcoholic</td>\n",
       "      <td>Cocktail</td>\n",
       "      <td>Martini Glass</td>\n",
       "      <td>Shake all the ingredients in a cocktail shaker...</td>\n",
       "      <td>https://www.thecocktaildb.com/images/media/dri...</td>\n",
       "      <td>['Gin', 'Grenadine', 'Heavy cream', 'Milk', 'E...</td>\n",
       "      <td>['2 shots ', '1/2 shot ', '1/2 shot ', '1/2 sh...</td>\n",
       "      <td>question Generate a cocktail with Gin Grenadin...</td>\n",
       "    </tr>\n",
       "    <tr>\n",
       "      <th>3</th>\n",
       "      <td>3</td>\n",
       "      <td>3</td>\n",
       "      <td>ACID</td>\n",
       "      <td>Alcoholic</td>\n",
       "      <td>Shot</td>\n",
       "      <td>Shot glass</td>\n",
       "      <td>Poor in the 151 first followed by the 101 serv...</td>\n",
       "      <td>https://www.thecocktaildb.com/images/media/dri...</td>\n",
       "      <td>['151 proof rum', 'Wild Turkey']</td>\n",
       "      <td>['1 oz Bacardi ', '1 oz ']</td>\n",
       "      <td>question Generate a cocktail with 151 proof ru...</td>\n",
       "    </tr>\n",
       "    <tr>\n",
       "      <th>4</th>\n",
       "      <td>4</td>\n",
       "      <td>4</td>\n",
       "      <td>Adam</td>\n",
       "      <td>Alcoholic</td>\n",
       "      <td>Ordinary Drink</td>\n",
       "      <td>Cocktail glass</td>\n",
       "      <td>In a shaker half-filled with ice cubes, combin...</td>\n",
       "      <td>https://www.thecocktaildb.com/images/media/dri...</td>\n",
       "      <td>['Dark rum', 'Lemon juice', 'Grenadine']</td>\n",
       "      <td>['2 oz ', '1 oz ', '1 tsp ']</td>\n",
       "      <td>question Generate a cocktail with Dark rum Lem...</td>\n",
       "    </tr>\n",
       "  </tbody>\n",
       "</table>\n",
       "</div>"
      ]
     },
     "execution_count": 36,
     "metadata": {},
     "output_type": "execute_result"
    }
   ],
   "execution_count": 36
  },
  {
   "metadata": {
    "ExecuteTime": {
     "end_time": "2025-01-28T15:45:00.099315Z",
     "start_time": "2025-01-28T15:45:00.094820Z"
    }
   },
   "cell_type": "code",
   "source": "df.columns",
   "id": "71b9b8d30824a8e8",
   "outputs": [
    {
     "data": {
      "text/plain": [
       "Index(['Unnamed: 0', 'id', 'name', 'alcoholic', 'category', 'glassType',\n",
       "       'instructions', 'drinkThumbnail', 'ingredients', 'ingredientMeasures',\n",
       "       'text'],\n",
       "      dtype='object')"
      ]
     },
     "execution_count": 37,
     "metadata": {},
     "output_type": "execute_result"
    }
   ],
   "execution_count": 37
  },
  {
   "metadata": {
    "ExecuteTime": {
     "end_time": "2025-01-28T15:45:00.435747Z",
     "start_time": "2025-01-28T15:45:00.432263Z"
    }
   },
   "cell_type": "code",
   "source": "df['ingredients'] = df['ingredients'].str.strip('[]')",
   "id": "f3b6b116eec30adf",
   "outputs": [],
   "execution_count": 38
  },
  {
   "metadata": {
    "ExecuteTime": {
     "end_time": "2025-01-28T15:45:00.728209Z",
     "start_time": "2025-01-28T15:45:00.725201Z"
    }
   },
   "cell_type": "code",
   "source": "valuable_fields = ['name', 'alcoholic', 'category','ingredients']",
   "id": "fb0113246b6f9798",
   "outputs": [],
   "execution_count": 39
  },
  {
   "metadata": {
    "ExecuteTime": {
     "end_time": "2025-01-28T15:45:01.046935Z",
     "start_time": "2025-01-28T15:45:01.005212Z"
    }
   },
   "cell_type": "code",
   "source": [
    "n_v_list = []\n",
    "for index, row in df.iterrows():\n",
    "    name_value_concat = [str(df.iloc[index][column_name]) for column_name in valuable_fields]\n",
    "    n_v_list.append('; '.join(name_value_concat))\n",
    "\n",
    "df['Combined'] = n_v_list"
   ],
   "id": "a4449abe038a8854",
   "outputs": [],
   "execution_count": 40
  },
  {
   "metadata": {
    "ExecuteTime": {
     "end_time": "2025-01-28T15:45:01.291230Z",
     "start_time": "2025-01-28T15:45:01.284645Z"
    }
   },
   "cell_type": "code",
   "source": "df.head()",
   "id": "dd7339127323fd90",
   "outputs": [
    {
     "data": {
      "text/plain": [
       "   Unnamed: 0  id  name  alcoholic        category       glassType  \\\n",
       "0           0   0    A1  Alcoholic        Cocktail  Cocktail glass   \n",
       "1           1   1   ABC  Alcoholic            Shot      Shot glass   \n",
       "2           2   2   Ace  Alcoholic        Cocktail   Martini Glass   \n",
       "3           3   3  ACID  Alcoholic            Shot      Shot glass   \n",
       "4           4   4  Adam  Alcoholic  Ordinary Drink  Cocktail glass   \n",
       "\n",
       "                                        instructions  \\\n",
       "0  Pour all ingredients into a cocktail shaker, m...   \n",
       "1                           Layered in a shot glass.   \n",
       "2  Shake all the ingredients in a cocktail shaker...   \n",
       "3  Poor in the 151 first followed by the 101 serv...   \n",
       "4  In a shaker half-filled with ice cubes, combin...   \n",
       "\n",
       "                                      drinkThumbnail  \\\n",
       "0  https://www.thecocktaildb.com/images/media/dri...   \n",
       "1  https://www.thecocktaildb.com/images/media/dri...   \n",
       "2  https://www.thecocktaildb.com/images/media/dri...   \n",
       "3  https://www.thecocktaildb.com/images/media/dri...   \n",
       "4  https://www.thecocktaildb.com/images/media/dri...   \n",
       "\n",
       "                                         ingredients  \\\n",
       "0  'Gin', 'Grand Marnier', 'Lemon Juice', 'Grenad...   \n",
       "1        'Amaretto', 'Baileys irish cream', 'Cognac'   \n",
       "2  'Gin', 'Grenadine', 'Heavy cream', 'Milk', 'Eg...   \n",
       "3                     '151 proof rum', 'Wild Turkey'   \n",
       "4             'Dark rum', 'Lemon juice', 'Grenadine'   \n",
       "\n",
       "                                  ingredientMeasures  \\\n",
       "0  ['1 3/4 shot ', '1 Shot ', '1/4 Shot', '1/8 Sh...   \n",
       "1                           ['1/3 ', '1/3 ', '1/3 ']   \n",
       "2  ['2 shots ', '1/2 shot ', '1/2 shot ', '1/2 sh...   \n",
       "3                         ['1 oz Bacardi ', '1 oz ']   \n",
       "4                       ['2 oz ', '1 oz ', '1 tsp ']   \n",
       "\n",
       "                                                text  \\\n",
       "0  question Generate a cocktail with Gin Grand Ma...   \n",
       "1  question Generate a cocktail with Amaretto Bai...   \n",
       "2  question Generate a cocktail with Gin Grenadin...   \n",
       "3  question Generate a cocktail with 151 proof ru...   \n",
       "4  question Generate a cocktail with Dark rum Lem...   \n",
       "\n",
       "                                            Combined  \n",
       "0  A1; Alcoholic; Cocktail; 'Gin', 'Grand Marnier...  \n",
       "1  ABC; Alcoholic; Shot; 'Amaretto', 'Baileys iri...  \n",
       "2  Ace; Alcoholic; Cocktail; 'Gin', 'Grenadine', ...  \n",
       "3  ACID; Alcoholic; Shot; '151 proof rum', 'Wild ...  \n",
       "4  Adam; Alcoholic; Ordinary Drink; 'Dark rum', '...  "
      ],
      "text/html": [
       "<div>\n",
       "<style scoped>\n",
       "    .dataframe tbody tr th:only-of-type {\n",
       "        vertical-align: middle;\n",
       "    }\n",
       "\n",
       "    .dataframe tbody tr th {\n",
       "        vertical-align: top;\n",
       "    }\n",
       "\n",
       "    .dataframe thead th {\n",
       "        text-align: right;\n",
       "    }\n",
       "</style>\n",
       "<table border=\"1\" class=\"dataframe\">\n",
       "  <thead>\n",
       "    <tr style=\"text-align: right;\">\n",
       "      <th></th>\n",
       "      <th>Unnamed: 0</th>\n",
       "      <th>id</th>\n",
       "      <th>name</th>\n",
       "      <th>alcoholic</th>\n",
       "      <th>category</th>\n",
       "      <th>glassType</th>\n",
       "      <th>instructions</th>\n",
       "      <th>drinkThumbnail</th>\n",
       "      <th>ingredients</th>\n",
       "      <th>ingredientMeasures</th>\n",
       "      <th>text</th>\n",
       "      <th>Combined</th>\n",
       "    </tr>\n",
       "  </thead>\n",
       "  <tbody>\n",
       "    <tr>\n",
       "      <th>0</th>\n",
       "      <td>0</td>\n",
       "      <td>0</td>\n",
       "      <td>A1</td>\n",
       "      <td>Alcoholic</td>\n",
       "      <td>Cocktail</td>\n",
       "      <td>Cocktail glass</td>\n",
       "      <td>Pour all ingredients into a cocktail shaker, m...</td>\n",
       "      <td>https://www.thecocktaildb.com/images/media/dri...</td>\n",
       "      <td>'Gin', 'Grand Marnier', 'Lemon Juice', 'Grenad...</td>\n",
       "      <td>['1 3/4 shot ', '1 Shot ', '1/4 Shot', '1/8 Sh...</td>\n",
       "      <td>question Generate a cocktail with Gin Grand Ma...</td>\n",
       "      <td>A1; Alcoholic; Cocktail; 'Gin', 'Grand Marnier...</td>\n",
       "    </tr>\n",
       "    <tr>\n",
       "      <th>1</th>\n",
       "      <td>1</td>\n",
       "      <td>1</td>\n",
       "      <td>ABC</td>\n",
       "      <td>Alcoholic</td>\n",
       "      <td>Shot</td>\n",
       "      <td>Shot glass</td>\n",
       "      <td>Layered in a shot glass.</td>\n",
       "      <td>https://www.thecocktaildb.com/images/media/dri...</td>\n",
       "      <td>'Amaretto', 'Baileys irish cream', 'Cognac'</td>\n",
       "      <td>['1/3 ', '1/3 ', '1/3 ']</td>\n",
       "      <td>question Generate a cocktail with Amaretto Bai...</td>\n",
       "      <td>ABC; Alcoholic; Shot; 'Amaretto', 'Baileys iri...</td>\n",
       "    </tr>\n",
       "    <tr>\n",
       "      <th>2</th>\n",
       "      <td>2</td>\n",
       "      <td>2</td>\n",
       "      <td>Ace</td>\n",
       "      <td>Alcoholic</td>\n",
       "      <td>Cocktail</td>\n",
       "      <td>Martini Glass</td>\n",
       "      <td>Shake all the ingredients in a cocktail shaker...</td>\n",
       "      <td>https://www.thecocktaildb.com/images/media/dri...</td>\n",
       "      <td>'Gin', 'Grenadine', 'Heavy cream', 'Milk', 'Eg...</td>\n",
       "      <td>['2 shots ', '1/2 shot ', '1/2 shot ', '1/2 sh...</td>\n",
       "      <td>question Generate a cocktail with Gin Grenadin...</td>\n",
       "      <td>Ace; Alcoholic; Cocktail; 'Gin', 'Grenadine', ...</td>\n",
       "    </tr>\n",
       "    <tr>\n",
       "      <th>3</th>\n",
       "      <td>3</td>\n",
       "      <td>3</td>\n",
       "      <td>ACID</td>\n",
       "      <td>Alcoholic</td>\n",
       "      <td>Shot</td>\n",
       "      <td>Shot glass</td>\n",
       "      <td>Poor in the 151 first followed by the 101 serv...</td>\n",
       "      <td>https://www.thecocktaildb.com/images/media/dri...</td>\n",
       "      <td>'151 proof rum', 'Wild Turkey'</td>\n",
       "      <td>['1 oz Bacardi ', '1 oz ']</td>\n",
       "      <td>question Generate a cocktail with 151 proof ru...</td>\n",
       "      <td>ACID; Alcoholic; Shot; '151 proof rum', 'Wild ...</td>\n",
       "    </tr>\n",
       "    <tr>\n",
       "      <th>4</th>\n",
       "      <td>4</td>\n",
       "      <td>4</td>\n",
       "      <td>Adam</td>\n",
       "      <td>Alcoholic</td>\n",
       "      <td>Ordinary Drink</td>\n",
       "      <td>Cocktail glass</td>\n",
       "      <td>In a shaker half-filled with ice cubes, combin...</td>\n",
       "      <td>https://www.thecocktaildb.com/images/media/dri...</td>\n",
       "      <td>'Dark rum', 'Lemon juice', 'Grenadine'</td>\n",
       "      <td>['2 oz ', '1 oz ', '1 tsp ']</td>\n",
       "      <td>question Generate a cocktail with Dark rum Lem...</td>\n",
       "      <td>Adam; Alcoholic; Ordinary Drink; 'Dark rum', '...</td>\n",
       "    </tr>\n",
       "  </tbody>\n",
       "</table>\n",
       "</div>"
      ]
     },
     "execution_count": 41,
     "metadata": {},
     "output_type": "execute_result"
    }
   ],
   "execution_count": 41
  },
  {
   "metadata": {
    "ExecuteTime": {
     "end_time": "2025-01-28T15:45:01.614716Z",
     "start_time": "2025-01-28T15:45:01.609545Z"
    }
   },
   "cell_type": "code",
   "source": [
    "upd_df = df[['Combined', 'text']].copy()\n",
    "upd_df.head()"
   ],
   "id": "78b611f25ed79088",
   "outputs": [
    {
     "data": {
      "text/plain": [
       "                                            Combined  \\\n",
       "0  A1; Alcoholic; Cocktail; 'Gin', 'Grand Marnier...   \n",
       "1  ABC; Alcoholic; Shot; 'Amaretto', 'Baileys iri...   \n",
       "2  Ace; Alcoholic; Cocktail; 'Gin', 'Grenadine', ...   \n",
       "3  ACID; Alcoholic; Shot; '151 proof rum', 'Wild ...   \n",
       "4  Adam; Alcoholic; Ordinary Drink; 'Dark rum', '...   \n",
       "\n",
       "                                                text  \n",
       "0  question Generate a cocktail with Gin Grand Ma...  \n",
       "1  question Generate a cocktail with Amaretto Bai...  \n",
       "2  question Generate a cocktail with Gin Grenadin...  \n",
       "3  question Generate a cocktail with 151 proof ru...  \n",
       "4  question Generate a cocktail with Dark rum Lem...  "
      ],
      "text/html": [
       "<div>\n",
       "<style scoped>\n",
       "    .dataframe tbody tr th:only-of-type {\n",
       "        vertical-align: middle;\n",
       "    }\n",
       "\n",
       "    .dataframe tbody tr th {\n",
       "        vertical-align: top;\n",
       "    }\n",
       "\n",
       "    .dataframe thead th {\n",
       "        text-align: right;\n",
       "    }\n",
       "</style>\n",
       "<table border=\"1\" class=\"dataframe\">\n",
       "  <thead>\n",
       "    <tr style=\"text-align: right;\">\n",
       "      <th></th>\n",
       "      <th>Combined</th>\n",
       "      <th>text</th>\n",
       "    </tr>\n",
       "  </thead>\n",
       "  <tbody>\n",
       "    <tr>\n",
       "      <th>0</th>\n",
       "      <td>A1; Alcoholic; Cocktail; 'Gin', 'Grand Marnier...</td>\n",
       "      <td>question Generate a cocktail with Gin Grand Ma...</td>\n",
       "    </tr>\n",
       "    <tr>\n",
       "      <th>1</th>\n",
       "      <td>ABC; Alcoholic; Shot; 'Amaretto', 'Baileys iri...</td>\n",
       "      <td>question Generate a cocktail with Amaretto Bai...</td>\n",
       "    </tr>\n",
       "    <tr>\n",
       "      <th>2</th>\n",
       "      <td>Ace; Alcoholic; Cocktail; 'Gin', 'Grenadine', ...</td>\n",
       "      <td>question Generate a cocktail with Gin Grenadin...</td>\n",
       "    </tr>\n",
       "    <tr>\n",
       "      <th>3</th>\n",
       "      <td>ACID; Alcoholic; Shot; '151 proof rum', 'Wild ...</td>\n",
       "      <td>question Generate a cocktail with 151 proof ru...</td>\n",
       "    </tr>\n",
       "    <tr>\n",
       "      <th>4</th>\n",
       "      <td>Adam; Alcoholic; Ordinary Drink; 'Dark rum', '...</td>\n",
       "      <td>question Generate a cocktail with Dark rum Lem...</td>\n",
       "    </tr>\n",
       "  </tbody>\n",
       "</table>\n",
       "</div>"
      ]
     },
     "execution_count": 42,
     "metadata": {},
     "output_type": "execute_result"
    }
   ],
   "execution_count": 42
  },
  {
   "metadata": {
    "ExecuteTime": {
     "end_time": "2025-01-28T15:45:02.001364Z",
     "start_time": "2025-01-28T15:45:01.993577Z"
    }
   },
   "cell_type": "code",
   "source": [
    "upd_df_name = 'updated_cocktails.csv'\n",
    "full_update_path = os.path.join(general_path, upd_df_name)\n",
    "\n",
    "df.to_csv(full_update_path, index=False)  "
   ],
   "id": "470bbaae3d106f8c",
   "outputs": [],
   "execution_count": 43
  },
  {
   "metadata": {},
   "cell_type": "code",
   "outputs": [],
   "execution_count": null,
   "source": "",
   "id": "57cccf08c981aa86"
  }
 ],
 "metadata": {
  "kernelspec": {
   "display_name": "Python 3",
   "language": "python",
   "name": "python3"
  },
  "language_info": {
   "codemirror_mode": {
    "name": "ipython",
    "version": 2
   },
   "file_extension": ".py",
   "mimetype": "text/x-python",
   "name": "python",
   "nbconvert_exporter": "python",
   "pygments_lexer": "ipython2",
   "version": "2.7.6"
  }
 },
 "nbformat": 4,
 "nbformat_minor": 5
}
